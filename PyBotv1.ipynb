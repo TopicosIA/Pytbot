{
 "cells": [
  {
   "cell_type": "markdown",
   "metadata": {},
   "source": [
    "# PyBot"
   ]
  },
  {
   "cell_type": "markdown",
   "metadata": {},
   "source": [
    "Este proyecto esta basado en [Chatbot 101](https://apps.worldwritable.com/tutorials/chatbot/)\n",
    "[github](https://github.com/lizadaly/brobot/blob/master/broize.py)"
   ]
  },
  {
   "cell_type": "code",
   "execution_count": 1,
   "metadata": {},
   "outputs": [],
   "source": [
    "import spacy\n",
    "import random\n",
    "nlp = spacy.load('es')\n"
   ]
  },
  {
   "cell_type": "code",
   "execution_count": 2,
   "metadata": {},
   "outputs": [],
   "source": [
    "#usar la coincidencia de palabras clave simple, similar a cómo se modelaron ELIZA y otras IU de conversación iniciales.\n",
    "#Ejemplo de saludo\n",
    "POSIBLE_ENTRADA = (\"hola\", \"que tal\", \"mucho gusto\",\"que pasa?\")\n",
    "POSIBLE_RESP = [\"Hola!\", \"Hey\", \"Que onda\"]\n",
    "\n",
    "#Oraciones con las que responderemos si no tenemos idea de lo que el usuario acaba de decir\n",
    "NO_IDEA = [\n",
    "    \"uh como te sientas hoy\",\n",
    "    \"Tu puedes!\",\n",
    "    \"Trabaja duro\",\n",
    "    \"No pain no gain\",\n",
    "    \"Que haras despues de entrenar?\",\n",
    "    \"deberias de tomar un descanso\",\n",
    "]\n",
    "#estado de animo\n",
    "ANIMO = [\n",
    "    \"Como estas el día de hoy?\",\n",
    "    \"Que quieres realizar?\"\n",
    "    \"Perfecto\"\n",
    "    \"En que te puedo ayudar?\"\n",
    "]\n",
    "\n",
    "#Comentarios hacerca de ejercicio\n",
    "COMENTARIOS_RUTINAS = [\n",
    "    \"Pierna\",\n",
    "    \"Espalda\",\n",
    "    \"Biceps\"\n",
    "    \"Triceps\",\n",
    "    \"Hombro\"\n",
    "]\n",
    "REPS = \"Has {} repeticiones {} veces\".format(random.randint(3, 5),random.randint(8, 15))\n"
   ]
  },
  {
   "cell_type": "code",
   "execution_count": 57,
   "metadata": {},
   "outputs": [
    {
     "name": "stdout",
     "output_type": "stream",
     "text": [
      "PALABRA \t LEMMA \t POS \t\t TAG \t\t DEP\n",
      "yo \t\t yo \t PRON \t\t PRON__Case=Nom|Number=Sing|Person=1|PronType=Prs \t nsubj\n",
      "necesito \t\t necesitar \t VERB \t\t VERB__Mood=Ind|Number=Sing|Person=1|Tense=Pres|VerbForm=Fin \t ROOT\n",
      "hacer \t\t hacer \t VERB \t\t VERB__VerbForm=Inf \t xcomp\n",
      "ejercicio \t\t ejercicio \t NOUN \t\t NOUN__Gender=Masc|Number=Sing \t obj\n",
      "para \t\t parir \t ADP \t\t ADP__AdpType=Prep \t case\n",
      "mis \t\t mi \t DET \t\t DET__Number=Plur|Number[psor]=Sing|Person=1|Poss=Yes|PronType=Prs \t det\n",
      "piernas \t\t pierna \t NOUN \t\t NOUN__Gender=Fem|Number=Plur \t obl\n",
      ", \t\t , \t PUNCT \t\t PUNCT__PunctType=Comm \t punct\n",
      "ya \t\t ya \t ADV \t\t ADV___ \t mark\n",
      "que \t\t que \t SCONJ \t\t SCONJ___ \t fixed\n",
      "estan \t\t estan \t VERB \t\t VERB__Mood=Ind|Number=Plur|Person=3|Tense=Pres|VerbForm=Fin \t advcl\n",
      "muy \t\t muy \t ADV \t\t ADV___ \t advmod\n",
      "flacidas \t\t flacidas \t ADJ \t\t ADJ__Gender=Fem|Number=Plur|VerbForm=Part \t obj\n",
      ", \t\t , \t PUNCT \t\t PUNCT__PunctType=Comm \t punct\n",
      "que \t\t que \t SCONJ \t\t SCONJ___ \t nsubj\n",
      "me \t\t me \t PRON \t\t PRON__Number=Sing|Person=1|PronType=Prs \t iobj\n",
      "recomiendas \t\t recomendar \t ADJ \t\t ADJ__Gender=Fem|Number=Plur|VerbForm=Part \t advcl\n",
      "hacer \t\t hacer \t VERB \t\t VERB__VerbForm=Inf \t xcomp\n",
      "? \t\t ? \t PUNCT \t\t PUNCT__PunctSide=Fin|PunctType=Qest \t punct\n",
      "\n",
      "PALABRA \t TAM \t ALPHA \t STOP WORD\n",
      "yo \t\t xx \t True \t True\n",
      "necesito \t\t xxxx \t True \t False\n",
      "hacer \t\t xxxx \t True \t True\n",
      "ejercicio \t\t xxxx \t True \t False\n",
      "para \t\t xxxx \t True \t True\n",
      "mis \t\t xxx \t True \t True\n",
      "piernas \t\t xxxx \t True \t False\n",
      ", \t\t , \t False \t False\n",
      "ya \t\t xx \t True \t True\n",
      "que \t\t xxx \t True \t True\n",
      "estan \t\t xxxx \t True \t True\n",
      "muy \t\t xxx \t True \t True\n",
      "flacidas \t\t xxxx \t True \t False\n",
      ", \t\t , \t False \t False\n",
      "que \t\t xxx \t True \t True\n",
      "me \t\t xx \t True \t True\n",
      "recomiendas \t\t xxxx \t True \t False\n",
      "hacer \t\t xxxx \t True \t True\n",
      "? \t\t ? \t False \t False\n"
     ]
    }
   ],
   "source": [
    "#Ejemplo SpaCy\n",
    "oracion = nlp(u'yo necesito hacer ejercicio para mis piernas, ya que estan muy flacidas, que me recomiendas hacer?')\n",
    "print(\"PALABRA \\t LEMMA \\t POS \\t\\t TAG \\t\\t DEP\")\n",
    "for token in oracion:\n",
    "    print(token.text,\"\\t\\t\", token.lemma_, \"\\t\", token.pos_, \"\\t\\t\",token.tag_,\"\\t\", token.dep_)\n",
    "\n",
    "print(\"\\nPALABRA \\t TAM \\t ALPHA \\t STOP WORD\")\n",
    "for token in oracion:\n",
    "    print(token.text,\"\\t\\t\", token.shape_,\"\\t\", token.is_alpha,\"\\t\", token.is_stop)"
   ]
  },
  {
   "cell_type": "code",
   "execution_count": 3,
   "metadata": {},
   "outputs": [
    {
     "name": "stdout",
     "output_type": "stream",
     "text": [
      "None\n"
     ]
    }
   ],
   "source": [
    "\n",
    "def saludo(sentencia):\n",
    "    \"\"\"si una de las palabras que el usuario introduce coincide regresa una respuesta random\"\"\"\n",
    "    for palabra in sentencia:\n",
    "        if palabra.text.lower() in POSIBLE_ENTRADA:\n",
    "            return random.choice(POSIBLE_RESP)\n",
    "\n",
    "doc = nlp(u'que tal')\n",
    "\n",
    "print (saludo(doc))"
   ]
  },
  {
   "cell_type": "markdown",
   "metadata": {},
   "source": [
    "Basicamente si coincide una palbra de la oración te arroja una respuesta. Una primera forma de entablar una conversacion aunque un poco tonta."
   ]
  }
 ],
 "metadata": {
  "kernelspec": {
   "display_name": "Python 3",
   "language": "python",
   "name": "python3"
  },
  "language_info": {
   "codemirror_mode": {
    "name": "ipython",
    "version": 3
   },
   "file_extension": ".py",
   "mimetype": "text/x-python",
   "name": "python",
   "nbconvert_exporter": "python",
   "pygments_lexer": "ipython3",
   "version": "3.6.3"
  }
 },
 "nbformat": 4,
 "nbformat_minor": 2
}
